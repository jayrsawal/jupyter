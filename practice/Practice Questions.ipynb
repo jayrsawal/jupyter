{
 "cells": [
  {
   "cell_type": "markdown",
   "metadata": {},
   "source": [
    "# 1.1 Implement algo to check if string has all unique characters.\n",
    "## Follow-up: How about without using other data structures?"
   ]
  },
  {
   "cell_type": "code",
   "execution_count": 24,
   "metadata": {},
   "outputs": [],
   "source": [
    "# without addition data structures\n",
    "# complexity increases to O(n^2), but tradeoff is O(1) space\n",
    "def isAllUnique_n2(test):\n",
    "    # screwed this up, make sure to use range, not chars\n",
    "    for i in range(len(test)):\n",
    "        if test[i] in test[i+1:]:\n",
    "            return False\n",
    "    return True"
   ]
  },
  {
   "cell_type": "code",
   "execution_count": 26,
   "metadata": {},
   "outputs": [],
   "source": [
    "# O(n) complexity, O(n) space during run time\n",
    "def isAllUnique(test):\n",
    "    chars = {}\n",
    "    for i in test:\n",
    "        if i in chars:\n",
    "            return False\n",
    "        chars[i] = 1\n",
    "    return True"
   ]
  },
  {
   "cell_type": "markdown",
   "metadata": {},
   "source": [
    "# 8.1 Child can hop 1,2,3 steps ; how many paths to go up an n-step staircase?"
   ]
  },
  {
   "cell_type": "code",
   "execution_count": 14,
   "metadata": {},
   "outputs": [],
   "source": [
    "paths = { 0: 1, 1: 1, 2: 2 }\n",
    "def countHops(n):\n",
    "    if n < 0:\n",
    "        return 0\n",
    "    if n in paths:\n",
    "        return paths[n]\n",
    "    paths[n] = countHops(n-3) + countHops(n-2) + countHops(n-1)\n",
    "    return paths[n]"
   ]
  },
  {
   "cell_type": "code",
   "execution_count": 15,
   "metadata": {},
   "outputs": [
    {
     "data": {
      "text/plain": [
       "4"
      ]
     },
     "execution_count": 15,
     "metadata": {},
     "output_type": "execute_result"
    }
   ],
   "source": [
    "countHops(3)"
   ]
  },
  {
   "cell_type": "markdown",
   "metadata": {},
   "source": [
    "# 10.1 With two sorted arrays, A and B, where A has enough buffer to fit B at the end of the list, merge them."
   ]
  },
  {
   "cell_type": "code",
   "execution_count": 63,
   "metadata": {},
   "outputs": [
    {
     "data": {
      "text/plain": [
       "[-1, 1, 1, 2, 3, 3, 3, 3, 4, 5, 6, 9]"
      ]
     },
     "execution_count": 63,
     "metadata": {},
     "output_type": "execute_result"
    }
   ],
   "source": [
    "# since we have buffer space within A already, we should\n",
    "# do this sort in place instead of copying the array and\n",
    "# resorting..\n",
    "\n",
    "# steps:\n",
    "# - iterate through B\n",
    "# - is element greater than last element of A\n",
    "# - if so, insert\n",
    "# - otherwise, binary search for position\n",
    "# - last position is where we will insert\n",
    "# - push all elements by 1 then insert\n",
    "# increment size of A and start again only on right side\n",
    "\n",
    "A = [1,2,3,4,5, None, None, None, None, None, None, None]\n",
    "B = [-1,1,3,3,3,6,9]\n",
    "def mergeSort(A, B):\n",
    "    size = len(A) - len(B)\n",
    "    start = 0\n",
    "    end = size-1\n",
    "    for x in B:\n",
    "        if x > A[end]:\n",
    "            A[size] = x\n",
    "        else:\n",
    "            # let's find it in A\n",
    "            while(end > start):\n",
    "                mid = int(start + ((end-start)/2))\n",
    "                if start == mid:\n",
    "                    break\n",
    "                if A[mid] > x:\n",
    "                    end = mid\n",
    "                else:\n",
    "                    start = mid+1\n",
    "            # shift all elements to the right by 1\n",
    "            for i in range(size, start, -1):\n",
    "                A[i] = A[i-1]\n",
    "            A[start] = x # then insert\n",
    "        start += 1\n",
    "        end = size\n",
    "        size += 1\n",
    "    return A\n",
    "        \n",
    "mergeSort(A, B)"
   ]
  },
  {
   "cell_type": "code",
   "execution_count": null,
   "metadata": {},
   "outputs": [],
   "source": []
  }
 ],
 "metadata": {
  "kernelspec": {
   "display_name": "Python 3",
   "language": "python",
   "name": "python3"
  },
  "language_info": {
   "codemirror_mode": {
    "name": "ipython",
    "version": 3
   },
   "file_extension": ".py",
   "mimetype": "text/x-python",
   "name": "python",
   "nbconvert_exporter": "python",
   "pygments_lexer": "ipython3",
   "version": "3.6.4"
  }
 },
 "nbformat": 4,
 "nbformat_minor": 2
}
